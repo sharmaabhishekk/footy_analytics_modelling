{
 "cells": [
  {
   "cell_type": "code",
   "execution_count": 1,
   "metadata": {
    "id": "tS7IE5GqlxMm"
   },
   "outputs": [],
   "source": [
    "import torch\n",
    "import torch.nn as nn\n",
    "import torch.nn.functional as F\n",
    "\n",
    "import numpy as np\n",
    "import pandas as pd\n",
    "import matplotlib.pyplot as plt\n",
    "\n",
    "from sklearn.model_selection import train_test_split\n",
    "from sklearn.preprocessing import StandardScaler"
   ]
  },
  {
   "cell_type": "markdown",
   "metadata": {
    "tags": []
   },
   "source": [
    "### Loading the dataset"
   ]
  },
  {
   "cell_type": "code",
   "execution_count": 18,
   "metadata": {
    "colab": {
     "base_uri": "https://localhost:8080/",
     "height": 479
    },
    "id": "KtVrLfAcmAdF",
    "outputId": "3bf79b06-4c50-4f73-8fcb-76107ff51f96"
   },
   "outputs": [
    {
     "data": {
      "text/html": [
       "<div>\n",
       "<style scoped>\n",
       "    .dataframe tbody tr th:only-of-type {\n",
       "        vertical-align: middle;\n",
       "    }\n",
       "\n",
       "    .dataframe tbody tr th {\n",
       "        vertical-align: top;\n",
       "    }\n",
       "\n",
       "    .dataframe thead th {\n",
       "        text-align: right;\n",
       "    }\n",
       "</style>\n",
       "<table border=\"1\" class=\"dataframe\">\n",
       "  <thead>\n",
       "    <tr style=\"text-align: right;\">\n",
       "      <th></th>\n",
       "      <th>id</th>\n",
       "      <th>minute</th>\n",
       "      <th>result</th>\n",
       "      <th>X</th>\n",
       "      <th>Y</th>\n",
       "      <th>xG</th>\n",
       "      <th>player</th>\n",
       "      <th>h_a</th>\n",
       "      <th>player_id</th>\n",
       "      <th>situation</th>\n",
       "      <th>year</th>\n",
       "      <th>shotType</th>\n",
       "      <th>match_id</th>\n",
       "      <th>h_team</th>\n",
       "      <th>a_team</th>\n",
       "      <th>h_goals</th>\n",
       "      <th>a_goals</th>\n",
       "      <th>date</th>\n",
       "      <th>player_assisted</th>\n",
       "      <th>lastAction</th>\n",
       "    </tr>\n",
       "  </thead>\n",
       "  <tbody>\n",
       "    <tr>\n",
       "      <th>0</th>\n",
       "      <td>378451.0</td>\n",
       "      <td>20</td>\n",
       "      <td>BlockedShot</td>\n",
       "      <td>0.876</td>\n",
       "      <td>0.602</td>\n",
       "      <td>0.019479</td>\n",
       "      <td>Ollie Watkins</td>\n",
       "      <td>h</td>\n",
       "      <td>8865</td>\n",
       "      <td>OpenPlay</td>\n",
       "      <td>2020</td>\n",
       "      <td>Head</td>\n",
       "      <td>14104</td>\n",
       "      <td>Aston Villa</td>\n",
       "      <td>Sheffield United</td>\n",
       "      <td>1</td>\n",
       "      <td>0</td>\n",
       "      <td>2020-09-21 17:00:00</td>\n",
       "      <td>Matthew Cash</td>\n",
       "      <td>Aerial</td>\n",
       "    </tr>\n",
       "    <tr>\n",
       "      <th>1</th>\n",
       "      <td>378458.0</td>\n",
       "      <td>54</td>\n",
       "      <td>MissedShots</td>\n",
       "      <td>0.878</td>\n",
       "      <td>0.430</td>\n",
       "      <td>0.031428</td>\n",
       "      <td>Ollie Watkins</td>\n",
       "      <td>h</td>\n",
       "      <td>8865</td>\n",
       "      <td>OpenPlay</td>\n",
       "      <td>2020</td>\n",
       "      <td>Head</td>\n",
       "      <td>14104</td>\n",
       "      <td>Aston Villa</td>\n",
       "      <td>Sheffield United</td>\n",
       "      <td>1</td>\n",
       "      <td>0</td>\n",
       "      <td>2020-09-21 17:00:00</td>\n",
       "      <td>Trézéguet</td>\n",
       "      <td>Cross</td>\n",
       "    </tr>\n",
       "    <tr>\n",
       "      <th>2</th>\n",
       "      <td>378464.0</td>\n",
       "      <td>77</td>\n",
       "      <td>MissedShots</td>\n",
       "      <td>0.858</td>\n",
       "      <td>0.679</td>\n",
       "      <td>0.060696</td>\n",
       "      <td>Ollie Watkins</td>\n",
       "      <td>h</td>\n",
       "      <td>8865</td>\n",
       "      <td>OpenPlay</td>\n",
       "      <td>2020</td>\n",
       "      <td>RightFoot</td>\n",
       "      <td>14104</td>\n",
       "      <td>Aston Villa</td>\n",
       "      <td>Sheffield United</td>\n",
       "      <td>1</td>\n",
       "      <td>0</td>\n",
       "      <td>2020-09-21 17:00:00</td>\n",
       "      <td>John McGinn</td>\n",
       "      <td>Pass</td>\n",
       "    </tr>\n",
       "    <tr>\n",
       "      <th>3</th>\n",
       "      <td>379954.0</td>\n",
       "      <td>34</td>\n",
       "      <td>MissedShots</td>\n",
       "      <td>0.831</td>\n",
       "      <td>0.655</td>\n",
       "      <td>0.127710</td>\n",
       "      <td>Ollie Watkins</td>\n",
       "      <td>a</td>\n",
       "      <td>8865</td>\n",
       "      <td>OpenPlay</td>\n",
       "      <td>2020</td>\n",
       "      <td>RightFoot</td>\n",
       "      <td>14114</td>\n",
       "      <td>Fulham</td>\n",
       "      <td>Aston Villa</td>\n",
       "      <td>0</td>\n",
       "      <td>3</td>\n",
       "      <td>2020-09-28 17:00:00</td>\n",
       "      <td>Jack Grealish</td>\n",
       "      <td>TakeOn</td>\n",
       "    </tr>\n",
       "    <tr>\n",
       "      <th>4</th>\n",
       "      <td>379956.0</td>\n",
       "      <td>46</td>\n",
       "      <td>MissedShots</td>\n",
       "      <td>0.943</td>\n",
       "      <td>0.500</td>\n",
       "      <td>0.445354</td>\n",
       "      <td>Ollie Watkins</td>\n",
       "      <td>a</td>\n",
       "      <td>8865</td>\n",
       "      <td>FromCorner</td>\n",
       "      <td>2020</td>\n",
       "      <td>Head</td>\n",
       "      <td>14114</td>\n",
       "      <td>Fulham</td>\n",
       "      <td>Aston Villa</td>\n",
       "      <td>0</td>\n",
       "      <td>3</td>\n",
       "      <td>2020-09-28 17:00:00</td>\n",
       "      <td>Conor Hourihane</td>\n",
       "      <td>Cross</td>\n",
       "    </tr>\n",
       "  </tbody>\n",
       "</table>\n",
       "</div>"
      ],
      "text/plain": [
       "         id  minute       result      X      Y        xG         player h_a  \\\n",
       "0  378451.0      20  BlockedShot  0.876  0.602  0.019479  Ollie Watkins   h   \n",
       "1  378458.0      54  MissedShots  0.878  0.430  0.031428  Ollie Watkins   h   \n",
       "2  378464.0      77  MissedShots  0.858  0.679  0.060696  Ollie Watkins   h   \n",
       "3  379954.0      34  MissedShots  0.831  0.655  0.127710  Ollie Watkins   a   \n",
       "4  379956.0      46  MissedShots  0.943  0.500  0.445354  Ollie Watkins   a   \n",
       "\n",
       "   player_id   situation  year   shotType  match_id       h_team  \\\n",
       "0       8865    OpenPlay  2020       Head     14104  Aston Villa   \n",
       "1       8865    OpenPlay  2020       Head     14104  Aston Villa   \n",
       "2       8865    OpenPlay  2020  RightFoot     14104  Aston Villa   \n",
       "3       8865    OpenPlay  2020  RightFoot     14114       Fulham   \n",
       "4       8865  FromCorner  2020       Head     14114       Fulham   \n",
       "\n",
       "             a_team  h_goals  a_goals                 date  player_assisted  \\\n",
       "0  Sheffield United        1        0  2020-09-21 17:00:00     Matthew Cash   \n",
       "1  Sheffield United        1        0  2020-09-21 17:00:00        Trézéguet   \n",
       "2  Sheffield United        1        0  2020-09-21 17:00:00      John McGinn   \n",
       "3       Aston Villa        0        3  2020-09-28 17:00:00    Jack Grealish   \n",
       "4       Aston Villa        0        3  2020-09-28 17:00:00  Conor Hourihane   \n",
       "\n",
       "  lastAction  \n",
       "0     Aerial  \n",
       "1      Cross  \n",
       "2       Pass  \n",
       "3     TakeOn  \n",
       "4      Cross  "
      ]
     },
     "execution_count": 18,
     "metadata": {},
     "output_type": "execute_result"
    }
   ],
   "source": [
    "df = pd.read_csv(r\"C:\\repository\\understat_shot_data\\shots_data.csv\")\n",
    "df.head()"
   ]
  },
  {
   "cell_type": "code",
   "execution_count": 5,
   "metadata": {
    "colab": {
     "base_uri": "https://localhost:8080/"
    },
    "id": "3Cjuz3jOmPvn",
    "outputId": "26f17b39-b223-4335-b052-d598827879e2"
   },
   "outputs": [
    {
     "name": "stdout",
     "output_type": "stream",
     "text": [
      "<class 'pandas.core.frame.DataFrame'>\n",
      "RangeIndex: 292070 entries, 0 to 292069\n",
      "Data columns (total 20 columns):\n",
      " #   Column           Non-Null Count   Dtype  \n",
      "---  ------           --------------   -----  \n",
      " 0   id               292070 non-null  float64\n",
      " 1   minute           292070 non-null  int64  \n",
      " 2   result           292070 non-null  object \n",
      " 3   X                292070 non-null  float64\n",
      " 4   Y                292070 non-null  float64\n",
      " 5   xG               292070 non-null  float64\n",
      " 6   player           292070 non-null  object \n",
      " 7   h_a              292070 non-null  object \n",
      " 8   player_id        292070 non-null  int64  \n",
      " 9   situation        292070 non-null  object \n",
      " 10  year             292070 non-null  int64  \n",
      " 11  shotType         292070 non-null  object \n",
      " 12  match_id         292070 non-null  int64  \n",
      " 13  h_team           292070 non-null  object \n",
      " 14  a_team           292070 non-null  object \n",
      " 15  h_goals          292070 non-null  int64  \n",
      " 16  a_goals          292070 non-null  int64  \n",
      " 17  date             292070 non-null  object \n",
      " 18  player_assisted  214398 non-null  object \n",
      " 19  lastAction       292070 non-null  object \n",
      "dtypes: float64(4), int64(6), object(10)\n",
      "memory usage: 44.6+ MB\n"
     ]
    }
   ],
   "source": [
    "df.info(verbose=True)"
   ]
  },
  {
   "cell_type": "markdown",
   "metadata": {
    "tags": []
   },
   "source": [
    "### Feature-engineering and Preprocessing"
   ]
  },
  {
   "cell_type": "code",
   "execution_count": 19,
   "metadata": {
    "colab": {
     "base_uri": "https://localhost:8080/"
    },
    "id": "zA9-zxAkGKpk",
    "outputId": "bbf85a40-ffad-484b-ddf3-81958e3d649a"
   },
   "outputs": [
    {
     "name": "stdout",
     "output_type": "stream",
     "text": [
      "(172465, 9)\n",
      "(43117, 9)\n"
     ]
    }
   ],
   "source": [
    "target = 'isGoal'\n",
    "\n",
    "def get_angle(b):\n",
    "    b = np.array(b)\n",
    "    a = np.array([100,45])\n",
    "    c = np.array([100,55])\n",
    "    ba = a - b\n",
    "    bc = c - b\n",
    "\n",
    "    cosine_angle = np.dot(ba, bc) / (np.linalg.norm(ba) * np.linalg.norm(bc))\n",
    "    angle = np.arccos(cosine_angle)\n",
    "    return np.degrees(angle)\n",
    "\n",
    "##target encoding\n",
    "df = df[~df['result'].isin(['BlockedShot', 'OwnGoal'])]\n",
    "\n",
    "df[target] = df['result'].map({'MissedShots': 0, \n",
    "                               'SavedShot': 0, \n",
    "                               'ShotOnPost': 0, \n",
    "                               'Goal': 1})\n",
    "\n",
    "##features encoding\n",
    "df[\"h_state\"] = np.where(df[\"h_goals\"]==df[\"a_goals\"], 2, np.where(df[\"h_goals\"]>df[\"a_goals\"], 1, 0)) ##get home state\n",
    "df[\"a_state\"] = df[\"h_state\"].map({2:2, 1:0, 0:1}) ##get away state by inverting home state\n",
    "\n",
    "df[\"game_state\"] = np.where(df[\"h_a\"]=='h', df[\"h_state\"], df[\"a_state\"]) ##get game_state of given team (h/a)\n",
    "df.drop([\"a_goals\", \"h_goals\", \"h_a\"], axis=1, inplace=True) ##drop the columns we don't need anymore\n",
    "df[\"shotType\"] = df[\"shotType\"].map({'RightFoot':0, \n",
    "                                        'LeftFoot':0,\n",
    "                                        'OtherBodyPart':2, \n",
    "                                        'Head':1}) ##map to bodypart\n",
    "\n",
    "df[\"situation\"] = df[\"situation\"].map({\"OpenPlay\": 0,\n",
    "                                        \"FromCorner\":1, \n",
    "                                        \"SetPiece\": 2, \n",
    "                                        \"DirectFreekick\": 3}) ##map to situations\n",
    "\n",
    "df[[\"X\", \"Y\"]] = df[[\"X\", \"Y\"]]*100\n",
    "df[\"goal_x\"] = 100\n",
    "df[\"goal_y\"] = 50\n",
    "df[\"length\"] = np.sqrt( np.square(df[\"goal_x\"] - df[\"X\"]) + np.square(df[\"goal_y\"] - df[\"Y\"]) )\n",
    "df[\"angle\"] = df[[\"X\", \"Y\"]].apply(get_angle, axis=1)\n",
    "\n",
    "features = ['minute', 'X', 'Y', 'situation', 'shotType', 'game_state', 'length', 'angle']\n",
    "\n",
    "df = df[[target]+features]\n",
    "df = df.dropna()\n",
    "train_df, test_df = train_test_split(df, test_size=0.2, random_state=42)\n",
    "\n",
    "print(train_df.shape)\n",
    "print(test_df.shape)"
   ]
  },
  {
   "cell_type": "markdown",
   "metadata": {},
   "source": [
    "### Modelling"
   ]
  },
  {
   "cell_type": "markdown",
   "metadata": {},
   "source": [
    "#### Building PyTorch Dataset and Dataloader"
   ]
  },
  {
   "cell_type": "code",
   "execution_count": 32,
   "metadata": {
    "id": "g4qcpeon78Ug"
   },
   "outputs": [],
   "source": [
    "from torch.utils.data import DataLoader, Dataset\n",
    "\n",
    "batch_size = 100\n",
    "\n",
    "class ShotsDataset(Dataset):\n",
    "    \"\"\"Creating a pytorch dataloader for shots. \n",
    "    Need to implement three functions: __init__, __getitem__, and __len__\n",
    "    \"\"\"\n",
    "\n",
    "    def __init__(self, df):\n",
    "\n",
    "        xy = df.copy(deep=True).values\n",
    "        xy[:, 1:] = StandardScaler().fit_transform(xy[:, 1:])\n",
    "\n",
    "        self.x = torch.from_numpy(xy[:, 1:].astype(np.float32)) ## size [n_samples, n_features]\n",
    "        self.y = torch.from_numpy(xy[:, [0]].astype(np.float32)) ## size [n_samples, 1]\n",
    "        self.n_samples = xy.shape[0]\n",
    "\n",
    "    def __getitem__(self, idx):\n",
    "        return self.x[idx], self.y[idx] ## returns x, y\n",
    "\n",
    "    def __len__(self):\n",
    "        return self.n_samples\n",
    "\n",
    "train_dataset = ShotsDataset(train_df)\n",
    "test_dataset = ShotsDataset(test_df)\n",
    "\n",
    "train_loader = DataLoader(train_dataset, shuffle=False, batch_size=batch_size)\n",
    "test_loader = DataLoader(test_dataset, shuffle=False, batch_size=batch_size)"
   ]
  },
  {
   "cell_type": "code",
   "execution_count": 33,
   "metadata": {
    "colab": {
     "base_uri": "https://localhost:8080/"
    },
    "id": "fru9J3vcLM-n",
    "outputId": "c676ae02-3dee-4735-a57c-f15dfe389afc"
   },
   "outputs": [
    {
     "name": "stdout",
     "output_type": "stream",
     "text": [
      "tensor([ 1.6318, -0.1743, -1.3000, -0.5207, -0.5016,  0.1148,  0.4136, -0.5906])\n",
      "tensor([0.])\n"
     ]
    }
   ],
   "source": [
    "for (x, y) in train_dataset:\n",
    "    print(x)\n",
    "    print(y)\n",
    "    break"
   ]
  },
  {
   "cell_type": "markdown",
   "metadata": {},
   "source": [
    "#### Specifying Model Architecture"
   ]
  },
  {
   "cell_type": "code",
   "execution_count": 35,
   "metadata": {
    "id": "DgZRsEaanBJ5"
   },
   "outputs": [],
   "source": [
    "input_size = x.shape[0]\n",
    "hidden_size = 64\n",
    "num_classes = 1\n",
    "\n",
    "class XGModel(nn.Module):\n",
    "    \n",
    "    def __init__(self, input_size, hidden_size, num_classes):\n",
    "\n",
    "        super(XGModel, self).__init__()\n",
    "        self.input_size = input_size\n",
    "        self.fc1 = nn.Linear(self.input_size, hidden_size)\n",
    "        self.relu = nn.ReLU()\n",
    "        self.fc2 = nn.Linear(hidden_size, num_classes)\n",
    "\n",
    "    def forward(self, x):\n",
    "\n",
    "        out = self.fc1(x)\n",
    "        out = self.relu(out)\n",
    "        out = self.fc2(out)\n",
    "        out = torch.sigmoid(out) ##sigmoid activation function for last layer\n",
    "        \n",
    "        return out\n",
    "\n",
    "model = XGModel(input_size, hidden_size, num_classes)\n",
    "criterion = nn.BCELoss() ##binary cross-entropy without logits\n",
    "lr = 0.001 ##mess around with this (0.0001 - 0.01)\n",
    "optimizer = torch.optim.SGD(model.parameters(), lr=lr) ##try Adam"
   ]
  },
  {
   "cell_type": "markdown",
   "metadata": {
    "tags": []
   },
   "source": [
    "#### Training Loop"
   ]
  },
  {
   "cell_type": "code",
   "execution_count": 66,
   "metadata": {
    "colab": {
     "base_uri": "https://localhost:8080/",
     "height": 374
    },
    "id": "ChGLtPQluCGu",
    "outputId": "5a879097-2801-49de-de34-b7791ecda450"
   },
   "outputs": [
    {
     "name": "stdout",
     "output_type": "stream",
     "text": [
      "Epoch [1/10], Step [400/1725], Loss: 0.4243\n",
      "Epoch [1/10], Step [800/1725], Loss: 0.3496\n",
      "Epoch [1/10], Step [1200/1725], Loss: 0.4041\n",
      "Epoch [1/10], Step [1600/1725], Loss: 0.4003\n",
      "Epoch [2/10], Step [400/1725], Loss: 0.4072\n",
      "Epoch [2/10], Step [800/1725], Loss: 0.3285\n",
      "Epoch [2/10], Step [1200/1725], Loss: 0.3951\n",
      "Epoch [2/10], Step [1600/1725], Loss: 0.3966\n",
      "Epoch [3/10], Step [400/1725], Loss: 0.3951\n",
      "Epoch [3/10], Step [800/1725], Loss: 0.3143\n",
      "Epoch [3/10], Step [1200/1725], Loss: 0.3903\n",
      "Epoch [3/10], Step [1600/1725], Loss: 0.3945\n",
      "Epoch [4/10], Step [400/1725], Loss: 0.3867\n",
      "Epoch [4/10], Step [800/1725], Loss: 0.3045\n",
      "Epoch [4/10], Step [1200/1725], Loss: 0.3879\n",
      "Epoch [4/10], Step [1600/1725], Loss: 0.3931\n",
      "Epoch [5/10], Step [400/1725], Loss: 0.3807\n",
      "Epoch [5/10], Step [800/1725], Loss: 0.2975\n",
      "Epoch [5/10], Step [1200/1725], Loss: 0.3870\n",
      "Epoch [5/10], Step [1600/1725], Loss: 0.3921\n",
      "Epoch [6/10], Step [400/1725], Loss: 0.3764\n",
      "Epoch [6/10], Step [800/1725], Loss: 0.2924\n",
      "Epoch [6/10], Step [1200/1725], Loss: 0.3867\n",
      "Epoch [6/10], Step [1600/1725], Loss: 0.3912\n",
      "Epoch [7/10], Step [400/1725], Loss: 0.3731\n",
      "Epoch [7/10], Step [800/1725], Loss: 0.2887\n",
      "Epoch [7/10], Step [1200/1725], Loss: 0.3869\n",
      "Epoch [7/10], Step [1600/1725], Loss: 0.3904\n",
      "Epoch [8/10], Step [400/1725], Loss: 0.3706\n",
      "Epoch [8/10], Step [800/1725], Loss: 0.2858\n",
      "Epoch [8/10], Step [1200/1725], Loss: 0.3872\n",
      "Epoch [8/10], Step [1600/1725], Loss: 0.3897\n",
      "Epoch [9/10], Step [400/1725], Loss: 0.3687\n",
      "Epoch [9/10], Step [800/1725], Loss: 0.2836\n",
      "Epoch [9/10], Step [1200/1725], Loss: 0.3875\n",
      "Epoch [9/10], Step [1600/1725], Loss: 0.3890\n",
      "Epoch [10/10], Step [400/1725], Loss: 0.3671\n",
      "Epoch [10/10], Step [800/1725], Loss: 0.2819\n",
      "Epoch [10/10], Step [1200/1725], Loss: 0.3879\n",
      "Epoch [10/10], Step [1600/1725], Loss: 0.3882\n"
     ]
    }
   ],
   "source": [
    "epochs = 10 ##increase epochs for better fitting\n",
    "n_total_steps = len(train_loader)\n",
    "for epoch in range(epochs):\n",
    "\n",
    "    for num, (xs, ys) in enumerate(train_loader):\n",
    "        ##forward pass\n",
    "        ys_pred = model(xs)\n",
    "        loss = criterion(ys_pred, ys)\n",
    "        \n",
    "        ##backward pass\n",
    "        loss.backward()\n",
    "        optimizer.step()\n",
    "        \n",
    "        ##empty gradients for every batch\n",
    "        optimizer.zero_grad()\n",
    "\n",
    "        if (num+1) % 400 == 0: ##print out some feedback every 400th batch\n",
    "            print (f'Epoch [{epoch+1}/{epochs}], Step [{num+1}/{n_total_steps}], Loss: {loss.item():.4f}')"
   ]
  },
  {
   "cell_type": "markdown",
   "metadata": {
    "tags": []
   },
   "source": [
    "### Evaluating Model"
   ]
  },
  {
   "cell_type": "code",
   "execution_count": 67,
   "metadata": {},
   "outputs": [],
   "source": [
    "from sklearn.metrics import roc_auc_score\n",
    "\n",
    "pred_ys = []\n",
    "true_ys = []\n",
    "with torch.no_grad():\n",
    "    for (test_x, test_y) in test_loader:\n",
    "        y_pred = np.array(model(test_x)).flatten()\n",
    "        pred_ys.append(y_pred); true_ys.append(np.array(test_y).flatten())\n",
    "        \n",
    "pred_ys = np.concatenate(pred_ys)\n",
    "true_ys = np.concatenate(true_ys)\n",
    "\n",
    "roc_auc_score(true_ys, pred_ys) ##using AUC-ROC score       "
   ]
  }
 ],
 "metadata": {
  "colab": {
   "collapsed_sections": [],
   "name": "xg_model_pytorch.ipynb",
   "provenance": []
  },
  "kernelspec": {
   "display_name": "Python 3",
   "language": "python",
   "name": "python3"
  },
  "language_info": {
   "codemirror_mode": {
    "name": "ipython",
    "version": 3
   },
   "file_extension": ".py",
   "mimetype": "text/x-python",
   "name": "python",
   "nbconvert_exporter": "python",
   "pygments_lexer": "ipython3",
   "version": "3.8.3"
  }
 },
 "nbformat": 4,
 "nbformat_minor": 4
}
