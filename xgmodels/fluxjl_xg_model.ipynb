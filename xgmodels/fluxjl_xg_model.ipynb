{
 "cells": [
  {
   "cell_type": "code",
   "execution_count": 1,
   "metadata": {},
   "outputs": [
    {
     "name": "stderr",
     "output_type": "stream",
     "text": [
      "┌ Info: For saving to png with the Plotly backend PlotlyBase has to be installed.\n",
      "└ @ Plots C:\\Users\\sharm\\.julia\\packages\\Plots\\uCh2y\\src\\backends.jl:372\n"
     ]
    }
   ],
   "source": [
    "using CSV, DataFrames, Plots\n",
    "\n",
    "plotly()\n",
    "theme(:solarized_light)"
   ]
  },
  {
   "cell_type": "code",
   "execution_count": 2,
   "metadata": {},
   "outputs": [],
   "source": [
    "using Flux\n",
    "using Flux: Data.DataLoader\n",
    "using Flux: @epochs\n",
    "using Random\n",
    "using IterTools: ncycle\n",
    "\n",
    "Random.seed!(123);"
   ]
  },
  {
   "cell_type": "code",
   "execution_count": 3,
   "metadata": {},
   "outputs": [],
   "source": [
    "url = \"https://raw.githubusercontent.com/sharmaabhishekk/undershot_backup/master/understat_all_shots.csv\"\n",
    "df = DataFrame(CSV.read(download(url)))\n",
    "\n",
    "dropmissing!(df);"
   ]
  },
  {
   "cell_type": "code",
   "execution_count": 4,
   "metadata": {},
   "outputs": [
    {
     "data": {
      "text/html": [
       "<table class=\"data-frame\"><thead><tr><th></th><th>X</th><th>Y</th><th>a_goals</th><th>a_team</th><th>date</th><th>h_a</th><th>h_goals</th><th>h_team</th></tr><tr><th></th><th>Float64</th><th>Float64</th><th>Int64</th><th>String</th><th>String</th><th>String</th><th>Int64</th><th>String</th></tr></thead><tbody><p>5 rows × 20 columns (omitted printing of 12 columns)</p><tr><th>1</th><td>0.728</td><td>0.373</td><td>1</td><td>Darmstadt</td><td>12-09-2015 17:30</td><td>a</td><td>0</td><td>Bayer Leverkusen</td></tr><tr><th>2</th><td>0.927</td><td>0.557</td><td>2</td><td>Werder Bremen</td><td>07-12-2014 16:30</td><td>a</td><td>5</td><td>Eintracht Frankfurt</td></tr><tr><th>3</th><td>0.984</td><td>0.476</td><td>2</td><td>Darmstadt</td><td>17-10-2015 17:30</td><td>a</td><td>0</td><td>Augsburg</td></tr><tr><th>4</th><td>0.885</td><td>0.433</td><td>0</td><td>Darmstadt</td><td>01-11-2015 18:30</td><td>a</td><td>2</td><td>VfB Stuttgart</td></tr><tr><th>5</th><td>0.942</td><td>0.635</td><td>0</td><td>Darmstadt</td><td>01-11-2015 18:30</td><td>a</td><td>2</td><td>VfB Stuttgart</td></tr></tbody></table>"
      ],
      "text/latex": [
       "\\begin{tabular}{r|ccccccccc}\n",
       "\t& X & Y & a\\_goals & a\\_team & date & h\\_a & h\\_goals & h\\_team & \\\\\n",
       "\t\\hline\n",
       "\t& Float64 & Float64 & Int64 & String & String & String & Int64 & String & \\\\\n",
       "\t\\hline\n",
       "\t1 & 0.728 & 0.373 & 1 & Darmstadt & 12-09-2015 17:30 & a & 0 & Bayer Leverkusen & $\\dots$ \\\\\n",
       "\t2 & 0.927 & 0.557 & 2 & Werder Bremen & 07-12-2014 16:30 & a & 5 & Eintracht Frankfurt & $\\dots$ \\\\\n",
       "\t3 & 0.984 & 0.476 & 2 & Darmstadt & 17-10-2015 17:30 & a & 0 & Augsburg & $\\dots$ \\\\\n",
       "\t4 & 0.885 & 0.433 & 0 & Darmstadt & 01-11-2015 18:30 & a & 2 & VfB Stuttgart & $\\dots$ \\\\\n",
       "\t5 & 0.942 & 0.635 & 0 & Darmstadt & 01-11-2015 18:30 & a & 2 & VfB Stuttgart & $\\dots$ \\\\\n",
       "\\end{tabular}\n"
      ],
      "text/plain": [
       "5×20 DataFrame. Omitted printing of 15 columns\n",
       "│ Row │ X       │ Y       │ a_goals │ a_team        │ date             │\n",
       "│     │ \u001b[90mFloat64\u001b[39m │ \u001b[90mFloat64\u001b[39m │ \u001b[90mInt64\u001b[39m   │ \u001b[90mString\u001b[39m        │ \u001b[90mString\u001b[39m           │\n",
       "├─────┼─────────┼─────────┼─────────┼───────────────┼──────────────────┤\n",
       "│ 1   │ 0.728   │ 0.373   │ 1       │ Darmstadt     │ 12-09-2015 17:30 │\n",
       "│ 2   │ 0.927   │ 0.557   │ 2       │ Werder Bremen │ 07-12-2014 16:30 │\n",
       "│ 3   │ 0.984   │ 0.476   │ 2       │ Darmstadt     │ 17-10-2015 17:30 │\n",
       "│ 4   │ 0.885   │ 0.433   │ 0       │ Darmstadt     │ 01-11-2015 18:30 │\n",
       "│ 5   │ 0.942   │ 0.635   │ 0       │ Darmstadt     │ 01-11-2015 18:30 │"
      ]
     },
     "execution_count": 4,
     "metadata": {},
     "output_type": "execute_result"
    }
   ],
   "source": [
    "first(df, 5)"
   ]
  },
  {
   "cell_type": "code",
   "execution_count": 5,
   "metadata": {},
   "outputs": [
    {
     "name": "stdout",
     "output_type": "stream",
     "text": [
      "names(df) = [\"X\", \"Y\", \"a_goals\", \"a_team\", \"date\", \"h_a\", \"h_goals\", \"h_team\", \"id\", \"lastAction\", \"match_id\", \"minute\", \"player\", \"player_assisted\", \"player_id\", \"result\", \"season\", \"shotType\", \"situation\", \"xG\"]\n"
     ]
    }
   ],
   "source": [
    "@show names(df);"
   ]
  },
  {
   "cell_type": "code",
   "execution_count": 6,
   "metadata": {},
   "outputs": [],
   "source": [
    "get_target(val) = val == \"Goal\" ? \"Goal\" : \"Miss\"\n",
    "df[:target] = map(get_target, df[:result]);"
   ]
  },
  {
   "cell_type": "code",
   "execution_count": 7,
   "metadata": {},
   "outputs": [],
   "source": [
    "# Convert df to array\n",
    "data = convert(Array, df[[\"X\", \"Y\", \"minute\", \"target\"]])\n",
    "\n",
    "# Shuffle\n",
    "data = data[shuffle(1:end), :]\n",
    "\n",
    "# train/test split\n",
    "train_test_ratio = .8\n",
    "idx = Int(floor(size(df, 1) * train_test_ratio))\n",
    "data_train = data[1:idx,:]\n",
    "data_test = data[idx+1:end, :]\n",
    "\n",
    "# Get feature vectors\n",
    "get_feat(d) = transpose(convert(Array{Float32},d[:, 1:end-1]))\n",
    "x_train = get_feat(data_train)\n",
    "x_test = get_feat(data_test)\n",
    "\n",
    "# One hot labels\n",
    "onehot(d) = Flux.onehotbatch(d[:,end], unique(df.target))\n",
    "\n",
    "y_train = onehot(data_train)\n",
    "y_test = onehot(data_test);"
   ]
  },
  {
   "cell_type": "code",
   "execution_count": 8,
   "metadata": {},
   "outputs": [],
   "source": [
    "batch_size= 128\n",
    "train_dl = DataLoader((x_train, y_train), batchsize=batch_size, shuffle=true)\n",
    "test_dl = DataLoader((x_test, y_test), batchsize=batch_size);"
   ]
  },
  {
   "cell_type": "code",
   "execution_count": 9,
   "metadata": {},
   "outputs": [],
   "source": [
    "### Model ------------------------------\n",
    "function get_model()\n",
    "    c = Chain(\n",
    "        Dense(3,28,relu),\n",
    "        Dense(28,2)\n",
    "    )\n",
    "end\n",
    "\n",
    "model = get_model()\n",
    "\n",
    "### Loss ------------------------------\n",
    "loss(x,y) = Flux.Losses.logitbinarycrossentropy(model(x), y)\n",
    "\n",
    "train_losses = []\n",
    "test_losses = []\n",
    "train_acces = []\n",
    "test_acces = []\n",
    "\n",
    "### Optimiser ------------------------------\n",
    "lr = 0.001\n",
    "opt = ADAM(lr, (0.9, 0.999))\n",
    "\n",
    "### Callbacks ------------------------------\n",
    "function loss_all(data_loader)\n",
    "    sum([loss(x, y) for (x,y) in data_loader]) / length(data_loader) \n",
    "end\n",
    "\n",
    "callbacks = [\n",
    "    () -> push!(train_losses, loss_all(train_dl)),\n",
    "    () -> push!(test_losses, loss_all(test_dl)),\n",
    "\n",
    "];"
   ]
  },
  {
   "cell_type": "markdown",
   "metadata": {},
   "source": [
    "#### Training"
   ]
  },
  {
   "cell_type": "code",
   "execution_count": null,
   "metadata": {},
   "outputs": [],
   "source": [
    "epochs = 1 #30 \n",
    "ps = Flux.params(model)\n",
    "\n",
    "@epochs epochs Flux.train!(loss, ps, train_dl, opt, cb = callbacks)\n",
    "\n",
    "@show train_loss = loss_all(train_dl)\n",
    "@show test_loss = loss_all(test_dl)"
   ]
  }
 ],
 "metadata": {
  "kernelspec": {
   "display_name": "Julia 1.5.2",
   "language": "julia",
   "name": "julia-1.5"
  },
  "language_info": {
   "file_extension": ".jl",
   "mimetype": "application/julia",
   "name": "julia",
   "version": "1.5.2"
  }
 },
 "nbformat": 4,
 "nbformat_minor": 4
}
